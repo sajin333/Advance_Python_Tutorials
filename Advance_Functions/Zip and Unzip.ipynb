{
 "cells": [
  {
   "cell_type": "code",
   "execution_count": 1,
   "metadata": {},
   "outputs": [
    {
     "data": {
      "text/plain": [
       "([10, 20, 30], [40, 50, 60])"
      ]
     },
     "execution_count": 1,
     "metadata": {},
     "output_type": "execute_result"
    }
   ],
   "source": [
    "a=([10,20,30], [40,50,60])\n",
    "a"
   ]
  },
  {
   "cell_type": "code",
   "execution_count": 3,
   "metadata": {},
   "outputs": [
    {
     "data": {
      "text/plain": [
       "tuple"
      ]
     },
     "execution_count": 3,
     "metadata": {},
     "output_type": "execute_result"
    }
   ],
   "source": [
    "type(a)"
   ]
  },
  {
   "cell_type": "code",
   "execution_count": 4,
   "metadata": {},
   "outputs": [],
   "source": [
    "zp= zip([10,20,30], [40,50,60])"
   ]
  },
  {
   "cell_type": "code",
   "execution_count": 8,
   "metadata": {},
   "outputs": [
    {
     "data": {
      "text/plain": [
       "<zip at 0x23b1efb07c8>"
      ]
     },
     "execution_count": 8,
     "metadata": {},
     "output_type": "execute_result"
    }
   ],
   "source": [
    "zp"
   ]
  },
  {
   "cell_type": "code",
   "execution_count": 6,
   "metadata": {},
   "outputs": [
    {
     "data": {
      "text/plain": [
       "[(10, 40), (20, 50), (30, 60)]"
      ]
     },
     "execution_count": 6,
     "metadata": {},
     "output_type": "execute_result"
    }
   ],
   "source": [
    "list(zp)  #performing type casting as the Output is saved as an object file"
   ]
  },
  {
   "cell_type": "code",
   "execution_count": 9,
   "metadata": {},
   "outputs": [
    {
     "name": "stdout",
     "output_type": "stream",
     "text": [
      "(10, 40)\n",
      "(20, 50)\n",
      "(30, 60)\n"
     ]
    }
   ],
   "source": [
    "for i in zip([10,20,30],[40,50,60]):\n",
    "    print(i)"
   ]
  },
  {
   "cell_type": "markdown",
   "metadata": {},
   "source": [
    "zip:\n",
    "#Creates a Tuple as an output by joining the Indexes of Iterables\n",
    "#Returns an iterator of tuples.\n",
    "#Lets have a use case of zip.\n",
    "#we have a 2 list of the same length and if we are applying zip it will make a new list where it pairs\n",
    "#up the first two numbers from the list and then the second.\n",
    "\n",
    "# Zip allows us to iterate through various iterables\n",
    "# It is an iterable, thus we can use for loop and Next smt to fetch next value\n",
    "# Mostly used in Data preprocessing, feature engineering, and help in parallel iteration ie(fetches all value in a single go)"
   ]
  },
  {
   "cell_type": "code",
   "execution_count": 14,
   "metadata": {},
   "outputs": [],
   "source": [
    "first= ['Sajin','madhav', 'Vidhya' ]\n",
    "second=['a', 'b', 'c']"
   ]
  },
  {
   "cell_type": "code",
   "execution_count": 15,
   "metadata": {},
   "outputs": [
    {
     "data": {
      "text/plain": [
       "<zip at 0x23b1efb0608>"
      ]
     },
     "execution_count": 15,
     "metadata": {},
     "output_type": "execute_result"
    }
   ],
   "source": [
    "zip(first, second)"
   ]
  },
  {
   "cell_type": "code",
   "execution_count": 16,
   "metadata": {},
   "outputs": [
    {
     "name": "stdout",
     "output_type": "stream",
     "text": [
      "[('Sajin', 'a'), ('madhav', 'b'), ('Vidhya', 'c')]\n"
     ]
    }
   ],
   "source": [
    "output=list(zip(first, second))\n",
    "print(output)"
   ]
  },
  {
   "cell_type": "code",
   "execution_count": 17,
   "metadata": {},
   "outputs": [],
   "source": [
    "first= ['Sajin','madhav', 'Vidhya' ]\n",
    "second=['a', 'b', 'c']\n",
    "third=[1,2,3]"
   ]
  },
  {
   "cell_type": "code",
   "execution_count": 18,
   "metadata": {},
   "outputs": [
    {
     "name": "stdout",
     "output_type": "stream",
     "text": [
      "[('Sajin', 'a', 1), ('madhav', 'b', 2), ('Vidhya', 'c', 3)]\n"
     ]
    }
   ],
   "source": [
    "output1= list(zip(first, second, third))\n",
    "print(output1)"
   ]
  },
  {
   "cell_type": "code",
   "execution_count": 20,
   "metadata": {},
   "outputs": [
    {
     "name": "stdout",
     "output_type": "stream",
     "text": [
      "Sajin a 1\n",
      "madhav b 2\n",
      "Vidhya c 3\n"
     ]
    }
   ],
   "source": [
    "#we can iterate this through for loop as well\n",
    "output1= list(zip(first, second, third))\n",
    "for i,j,k in output1:\n",
    "    print(i,j,k)"
   ]
  },
  {
   "cell_type": "code",
   "execution_count": null,
   "metadata": {},
   "outputs": [],
   "source": []
  },
  {
   "cell_type": "code",
   "execution_count": null,
   "metadata": {},
   "outputs": [],
   "source": [
    "#If we add an extra index value in an iterable and if it doesnt match, zip will ignore it"
   ]
  },
  {
   "cell_type": "code",
   "execution_count": 21,
   "metadata": {},
   "outputs": [],
   "source": [
    "first= ['Sajin','madhav', 'Vidhya',4 ]\n",
    "second=['a', 'b', 'c']\n",
    "third=[1,2,3]"
   ]
  },
  {
   "cell_type": "code",
   "execution_count": 22,
   "metadata": {},
   "outputs": [
    {
     "name": "stdout",
     "output_type": "stream",
     "text": [
      "[('Sajin', 'a', 1), ('madhav', 'b', 2), ('Vidhya', 'c', 3)]\n"
     ]
    }
   ],
   "source": [
    "output1= list(zip(first, second, third))\n",
    "print(output1)"
   ]
  },
  {
   "cell_type": "markdown",
   "metadata": {},
   "source": [
    "# using Zip function with Dictionary"
   ]
  },
  {
   "cell_type": "code",
   "execution_count": 23,
   "metadata": {},
   "outputs": [],
   "source": [
    "dict1= {'name': 'sajin', 'lst_name': 'madhavan', 'age':27}\n",
    "dict2= {'name': 'Ramesh', 'lst_name': 'aravind', 'age':28}"
   ]
  },
  {
   "cell_type": "code",
   "execution_count": 32,
   "metadata": {},
   "outputs": [
    {
     "data": {
      "text/plain": [
       "{'name': 'name', 'lst_name': 'lst_name', 'age': 'age'}"
      ]
     },
     "execution_count": 32,
     "metadata": {},
     "output_type": "execute_result"
    }
   ],
   "source": [
    "dict(zip(dict1, dict2))"
   ]
  },
  {
   "cell_type": "code",
   "execution_count": 33,
   "metadata": {},
   "outputs": [
    {
     "data": {
      "text/plain": [
       "dict_items([('name', 'sajin'), ('lst_name', 'madhavan'), ('age', 27)])"
      ]
     },
     "execution_count": 33,
     "metadata": {},
     "output_type": "execute_result"
    }
   ],
   "source": [
    "dict1.items()"
   ]
  },
  {
   "cell_type": "code",
   "execution_count": 38,
   "metadata": {},
   "outputs": [],
   "source": [
    "output3= zip(dict1.items(), dict2.items())"
   ]
  },
  {
   "cell_type": "code",
   "execution_count": 39,
   "metadata": {},
   "outputs": [
    {
     "data": {
      "text/plain": [
       "<zip at 0x23b1f3ae2c8>"
      ]
     },
     "execution_count": 39,
     "metadata": {},
     "output_type": "execute_result"
    }
   ],
   "source": [
    "output3"
   ]
  },
  {
   "cell_type": "code",
   "execution_count": 40,
   "metadata": {},
   "outputs": [
    {
     "name": "stdout",
     "output_type": "stream",
     "text": [
      "name sajin\n",
      "name Ramesh\n",
      "lst_name madhavan\n",
      "lst_name aravind\n",
      "age 27\n",
      "age 28\n"
     ]
    }
   ],
   "source": [
    "# we can execute this using for loop\n",
    "\n",
    "for (i,j), (i2,j2) in output3:\n",
    "    print(i,j)\n",
    "    print(i2,j2)"
   ]
  },
  {
   "cell_type": "code",
   "execution_count": 41,
   "metadata": {},
   "outputs": [],
   "source": [
    "#Unzipping"
   ]
  },
  {
   "cell_type": "code",
   "execution_count": 42,
   "metadata": {},
   "outputs": [],
   "source": [
    "#Unzipping means converting the zipped values back to the individual self as they were. This is done with the help of “*” operator."
   ]
  },
  {
   "cell_type": "code",
   "execution_count": 43,
   "metadata": {},
   "outputs": [],
   "source": [
    "name = [ \"Manjeet\", \"Nikhil\", \"Shambhavi\", \"Astha\" ]\n",
    "roll_no = [ 4, 1, 3, 2 ]\n",
    "marks = [ 40, 50, 60, 70 ]"
   ]
  },
  {
   "cell_type": "code",
   "execution_count": 44,
   "metadata": {},
   "outputs": [],
   "source": [
    "# using zip() to map values\n",
    "mapped = zip(name, roll_no, marks)"
   ]
  },
  {
   "cell_type": "code",
   "execution_count": 48,
   "metadata": {},
   "outputs": [
    {
     "name": "stdout",
     "output_type": "stream",
     "text": [
      "The zipped result is : <zip object at 0x0000023B1F3AE9C8>\n"
     ]
    }
   ],
   "source": [
    "# printing resultant values \n",
    "print (\"The zipped result is : \",end=\"\")\n",
    "print (mapped)"
   ]
  },
  {
   "cell_type": "code",
   "execution_count": 49,
   "metadata": {},
   "outputs": [],
   "source": [
    "# unzipping values\n",
    "namz, roll_noz, marksz = zip(*mapped)"
   ]
  },
  {
   "cell_type": "code",
   "execution_count": 51,
   "metadata": {},
   "outputs": [
    {
     "name": "stdout",
     "output_type": "stream",
     "text": [
      "The unzipped result: \n",
      "The name list is : ('Manjeet', 'Nikhil', 'Shambhavi', 'Astha')\n",
      "The roll_no list is : (4, 1, 3, 2)\n",
      "The marks list is : (40, 50, 60, 70)\n"
     ]
    }
   ],
   "source": [
    "print (\"The unzipped result: \\n\",end=\"\")\n",
    "# printing initial lists\n",
    "print (\"The name list is : \",end=\"\")\n",
    "print (namz)\n",
    "  \n",
    "print (\"The roll_no list is : \",end=\"\")\n",
    "print (roll_noz)\n",
    "  \n",
    "print (\"The marks list is : \",end=\"\")\n",
    "print (marksz)"
   ]
  },
  {
   "cell_type": "code",
   "execution_count": null,
   "metadata": {},
   "outputs": [],
   "source": [
    "#one example"
   ]
  },
  {
   "cell_type": "code",
   "execution_count": 52,
   "metadata": {},
   "outputs": [
    {
     "name": "stdout",
     "output_type": "stream",
     "text": [
      "India -> Kohli\n",
      "England -> Root\n",
      "NZ -> Williaamson\n",
      "Aus -> Smith\n"
     ]
    }
   ],
   "source": [
    "teams=[\"India\", \"England\", \"NZ\", \"Aus\"]\n",
    "captains=[\"Kohli\",\"Root\",\"Williaamson\", \"Smith\"]\n",
    "zipped=zip(teams,captains)\n",
    "while True:\n",
    "    try:\n",
    "        tup=next(zipped)\n",
    "        print(tup[0],\"->\", tup[1])\n",
    "    except StopIteration:\n",
    "        break"
   ]
  },
  {
   "cell_type": "code",
   "execution_count": null,
   "metadata": {},
   "outputs": [],
   "source": []
  }
 ],
 "metadata": {
  "kernelspec": {
   "display_name": "Python 3",
   "language": "python",
   "name": "python3"
  },
  "language_info": {
   "codemirror_mode": {
    "name": "ipython",
    "version": 3
   },
   "file_extension": ".py",
   "mimetype": "text/x-python",
   "name": "python",
   "nbconvert_exporter": "python",
   "pygments_lexer": "ipython3",
   "version": "3.7.1"
  }
 },
 "nbformat": 4,
 "nbformat_minor": 2
}
