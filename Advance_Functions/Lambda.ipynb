{
 "cells": [
  {
   "cell_type": "code",
   "execution_count": 12,
   "metadata": {},
   "outputs": [],
   "source": [
    "#One way\n",
    "def square(num):\n",
    "    return num*numc"
   ]
  },
  {
   "cell_type": "code",
   "execution_count": 13,
   "metadata": {},
   "outputs": [
    {
     "data": {
      "text/plain": [
       "9"
      ]
     },
     "execution_count": 13,
     "metadata": {},
     "output_type": "execute_result"
    }
   ],
   "source": [
    "square(3)"
   ]
  },
  {
   "cell_type": "code",
   "execution_count": 20,
   "metadata": {},
   "outputs": [],
   "source": [
    "#by using Lambda function\n",
    "out1=lambda x:x*x"
   ]
  },
  {
   "cell_type": "code",
   "execution_count": 21,
   "metadata": {},
   "outputs": [
    {
     "data": {
      "text/plain": [
       "9"
      ]
     },
     "execution_count": 21,
     "metadata": {},
     "output_type": "execute_result"
    }
   ],
   "source": [
    "out1(3)"
   ]
  },
  {
   "cell_type": "markdown",
   "metadata": {},
   "source": [
    "# syntax\n",
    "\n",
    "output=lambda argument:expression\n",
    "\n",
    "output(argument)\n",
    "\n",
    "Lambda is the keyword, it is a function which does not use def or return. so it is called anonymous function.\n",
    "It just exist and we can store into a variable \n",
    "Lambda functions are used extensively with Map, reduce and Filter"
   ]
  },
  {
   "cell_type": "code",
   "execution_count": 22,
   "metadata": {},
   "outputs": [
    {
     "name": "stdout",
     "output_type": "stream",
     "text": [
      "20\n"
     ]
    }
   ],
   "source": [
    "out2=lambda a,b:a+b\n",
    "print(out2(5,15))"
   ]
  },
  {
   "cell_type": "code",
   "execution_count": 24,
   "metadata": {},
   "outputs": [
    {
     "name": "stdout",
     "output_type": "stream",
     "text": [
      "15\n"
     ]
    }
   ],
   "source": [
    "#Add 10 to argument a, and return the result:\n",
    "out2= lambda a:a+10\n",
    "print(out2(5))"
   ]
  },
  {
   "cell_type": "code",
   "execution_count": 25,
   "metadata": {},
   "outputs": [
    {
     "data": {
      "text/plain": [
       "3000"
      ]
     },
     "execution_count": 25,
     "metadata": {},
     "output_type": "execute_result"
    }
   ],
   "source": [
    "out3= lambda a,b : a*b\n",
    "out3(50,60)"
   ]
  },
  {
   "cell_type": "code",
   "execution_count": 26,
   "metadata": {},
   "outputs": [
    {
     "data": {
      "text/plain": [
       "34"
      ]
     },
     "execution_count": 26,
     "metadata": {},
     "output_type": "execute_result"
    }
   ],
   "source": [
    "out4= lambda a,b,c : a+b*c\n",
    "out4(4,5,6)"
   ]
  },
  {
   "cell_type": "markdown",
   "metadata": {},
   "source": [
    "#  lambdas in filter()"
   ]
  },
  {
   "cell_type": "code",
   "execution_count": 28,
   "metadata": {},
   "outputs": [],
   "source": [
    "#The filter function is used to select some particular elements from a sequence of elements. \n",
    "#The sequence can be any iterator like lists, sets, tuples, etc.\n",
    "\n",
    "#The elements which will be selected is based on some pre-defined constraint. It takes 2 parameters:\n",
    "\n",
    "#A function that defines the filtering constraint\n",
    "#A sequence (any iterator like lists, tuples, etc.)"
   ]
  },
  {
   "cell_type": "code",
   "execution_count": null,
   "metadata": {},
   "outputs": [],
   "source": [
    "sequences = [10,2,8,7,5,4,3,11,0, 1]\n",
    "out5=filter(lambda x:x>4, sequences)\n",
    "print(list(out5))"
   ]
  },
  {
   "cell_type": "markdown",
   "metadata": {},
   "source": [
    "# lambdas in map()"
   ]
  },
  {
   "cell_type": "code",
   "execution_count": null,
   "metadata": {},
   "outputs": [],
   "source": [
    "#The map function is used to apply a particular operation to every element in a sequence. \n",
    "#Like filter(), it also takes 2 parameters:\n",
    "\n",
    "#A function that defines the operation to perform on the elements One or more sequences\n",
    "#One or more sequences"
   ]
  },
  {
   "cell_type": "code",
   "execution_count": 3,
   "metadata": {},
   "outputs": [
    {
     "name": "stdout",
     "output_type": "stream",
     "text": [
      "[30, 6, 24, 21, 15, 12, 9, 33, 0, 3]\n"
     ]
    }
   ],
   "source": [
    "sequences = [10,2,8,7,5,4,3,11,0, 1]\n",
    "out6=map(lambda x:x*3, sequences)\n",
    "print(list(out6))"
   ]
  },
  {
   "cell_type": "markdown",
   "metadata": {},
   "source": [
    "# lambdas in reduce()"
   ]
  },
  {
   "cell_type": "code",
   "execution_count": 5,
   "metadata": {},
   "outputs": [],
   "source": [
    "#The reduce function, like map(), is used to apply an operation to every element in a sequence.\n",
    "#However, it differs from the map in its working. \n",
    "\n",
    "\n",
    "#Step 1) Perform the defined operation on the first 2 elements of the sequence.\n",
    "\n",
    "#Step 2) Save this result\n",
    "\n",
    "\n",
    "#Step 3) Perform the operation with the saved result and the next element in the sequence.\n",
    "\n",
    "#Step 4) Repeat until no more elements are left.\n",
    "\n",
    "#It also takes two parameters:\n",
    "\n",
    "#*A function that defines the operation to be performed\n",
    "#*A sequence (any iterator like lists, tuples, etc.)\n",
    "\n"
   ]
  },
  {
   "cell_type": "code",
   "execution_count": 6,
   "metadata": {},
   "outputs": [
    {
     "name": "stdout",
     "output_type": "stream",
     "text": [
      "120\n"
     ]
    }
   ],
   "source": [
    "from functools import reduce\n",
    "sequences = [1,2,3,4,5]\n",
    "product = reduce (lambda x, y: x*y, sequences)\n",
    "print(product)"
   ]
  },
  {
   "cell_type": "markdown",
   "metadata": {},
   "source": [
    "Code Explanation:\n",
    "\n",
    "Import reduce from the functools module\n",
    "Here, we define a list called sequences which contains some numbers.\n",
    "We declare a variable called product which will store the reduced value\n",
    "A lambda function that runs on each element of the list. It will return the product of that number as per the previous result.\n",
    "Print the result returned by the reduce function."
   ]
  },
  {
   "cell_type": "code",
   "execution_count": null,
   "metadata": {},
   "outputs": [],
   "source": []
  }
 ],
 "metadata": {
  "kernelspec": {
   "display_name": "Python 3",
   "language": "python",
   "name": "python3"
  },
  "language_info": {
   "codemirror_mode": {
    "name": "ipython",
    "version": 3
   },
   "file_extension": ".py",
   "mimetype": "text/x-python",
   "name": "python",
   "nbconvert_exporter": "python",
   "pygments_lexer": "ipython3",
   "version": "3.7.1"
  }
 },
 "nbformat": 4,
 "nbformat_minor": 2
}
