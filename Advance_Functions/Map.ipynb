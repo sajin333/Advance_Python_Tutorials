{
 "cells": [
  {
   "cell_type": "code",
   "execution_count": 1,
   "metadata": {},
   "outputs": [],
   "source": [
    "#Map is a standard function which accpets at least 2 arguments , a function and an iterable.\n",
    "#Iterable - something that can be iterated over (list , str , dictionary , sets , tuple).\n",
    "#Runs the lambda or any function for each value in the iterable and return a map object which  can be converted into another data structure.\n",
    "\n",
    "#so lets take an example i have a list which consist of some values and i want to square all the element\n",
    "#for this concept we can use loop and the same task we can implement by the map function as well.\n",
    "#so lets understand the concept"
   ]
  },
  {
   "cell_type": "code",
   "execution_count": 2,
   "metadata": {},
   "outputs": [
    {
     "name": "stdout",
     "output_type": "stream",
     "text": [
      "[100, 400, 900, 1600, 2500, 3600, 4900, 6400, 8100, 10000]\n"
     ]
    }
   ],
   "source": [
    "l = [10,20,30,40,50,60,70,80,90,100]\n",
    "s1=[]\n",
    "for i in l:\n",
    "    s1.append(i**2)\n",
    "print(s1)"
   ]
  },
  {
   "cell_type": "code",
   "execution_count": 4,
   "metadata": {},
   "outputs": [
    {
     "name": "stdout",
     "output_type": "stream",
     "text": [
      "[100, 400, 900, 1600, 2500, 3600, 4900, 6400, 8100, 10000]\n"
     ]
    }
   ],
   "source": [
    "out1= map(lambda x:x**2, l)\n",
    "print(list(out1))"
   ]
  },
  {
   "cell_type": "code",
   "execution_count": 5,
   "metadata": {},
   "outputs": [
    {
     "name": "stdout",
     "output_type": "stream",
     "text": [
      "['PYTHON', 'IS', 'AMAZING']\n"
     ]
    }
   ],
   "source": [
    "#Another example\n",
    "w= ['python', 'is', 'amazing']\n",
    "out2= map(lambda x:x.upper(), w)\n",
    "print(list(out2))"
   ]
  },
  {
   "cell_type": "code",
   "execution_count": 8,
   "metadata": {},
   "outputs": [
    {
     "name": "stdout",
     "output_type": "stream",
     "text": [
      "['Sajin', 'Sree']\n"
     ]
    }
   ],
   "source": [
    "#Another example\n",
    "names= [{'first':'Sajin', 'last':'Madhavan'}, {'first':'Sree', 'last':'Vidhya'}]\n",
    "out3= map(lambda x:x['first'], names)\n",
    "print(list(out3))"
   ]
  },
  {
   "cell_type": "code",
   "execution_count": 9,
   "metadata": {},
   "outputs": [
    {
     "name": "stdout",
     "output_type": "stream",
     "text": [
      "[60, 77, 168]\n"
     ]
    }
   ],
   "source": [
    "num1=[6,7,8]\n",
    "num2=[10,11,21]\n",
    "out3=list(map(lambda x,y : x*y, num1,num2))\n",
    "print(out3)"
   ]
  },
  {
   "cell_type": "code",
   "execution_count": 10,
   "metadata": {},
   "outputs": [
    {
     "name": "stdout",
     "output_type": "stream",
     "text": [
      "[3, 4, 4, 6, 6, 8, 8, 10]\n"
     ]
    }
   ],
   "source": [
    "my_list = [2.6743,3.63526,4.2325,5.9687967,6.3265,7.6988,8.232,9.6907]\n",
    "out4=list(map(round, my_list))\n",
    "print(out4)"
   ]
  },
  {
   "cell_type": "code",
   "execution_count": 11,
   "metadata": {},
   "outputs": [
    {
     "name": "stdout",
     "output_type": "stream",
     "text": [
      "[20, 30, 40, 50, 60, 70, 80, 90]\n"
     ]
    }
   ],
   "source": [
    "l1=[2,3,4,5,6,7,8,9]\n",
    "out5=map(lambda x:x*10, l1)\n",
    "print(list(out5))"
   ]
  },
  {
   "cell_type": "markdown",
   "metadata": {},
   "source": [
    "Python map() is a built-in function that applies a function on all the items of an iterator given as input. An iterator, for example, can be a list, a tuple, a string, etc. and it returns an iterable map object.\n",
    "The map() function is going to apply the given function on all the items inside the iterator and return an iterable map object i.e a tuple, a list, etc.\n",
    "Python map() function is a built-in function and can also be used with other built-in functions available in Python.\n",
    "A tuple is an object in Python that has items separated by commas and enclosed in round brackets.A dictionary in Python is created using curly brackets({}). Since the dictionary is an iterator, you can make use of it inside map() function.\n",
    "Set in Python is an unordered collection of items in curly brackets(()). Since set() is also an iterator, you can make use of it inside map() function.\n",
    "In Python, lambda expressions (or lambda forms) are utilized to construct anonymous functions. So the lambda keyword has to used when you want to use lambda inside the map().\n",
    "You can send more than one iterator i.e. a list, a tuple to the map() function."
   ]
  },
  {
   "cell_type": "code",
   "execution_count": null,
   "metadata": {},
   "outputs": [],
   "source": []
  }
 ],
 "metadata": {
  "kernelspec": {
   "display_name": "Python 3",
   "language": "python",
   "name": "python3"
  },
  "language_info": {
   "codemirror_mode": {
    "name": "ipython",
    "version": 3
   },
   "file_extension": ".py",
   "mimetype": "text/x-python",
   "name": "python",
   "nbconvert_exporter": "python",
   "pygments_lexer": "ipython3",
   "version": "3.7.1"
  }
 },
 "nbformat": 4,
 "nbformat_minor": 2
}
