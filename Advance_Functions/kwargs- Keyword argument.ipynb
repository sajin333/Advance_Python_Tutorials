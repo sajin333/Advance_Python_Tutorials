{
 "cells": [
  {
   "cell_type": "code",
   "execution_count": 6,
   "metadata": {},
   "outputs": [],
   "source": [
    "# *args and **kwargs are mostly used in function definitions. *args and **kwargs allow you to pass an unspecified number of arguments to a function, so when writing the function definition,\n",
    "# you do not need to know how many arguments will be passed to your function"
   ]
  },
  {
   "cell_type": "code",
   "execution_count": 7,
   "metadata": {},
   "outputs": [],
   "source": [
    "#**kwargs handles keyword arguments"
   ]
  },
  {
   "cell_type": "code",
   "execution_count": 8,
   "metadata": {},
   "outputs": [],
   "source": [
    "# Using **kwargs to pass the variable keyword arguments to the function \n",
    "\n",
    "def intro(**data):\n",
    "    print('\\nData type of the argument', type(data))\n",
    "    \n",
    "    for key, value in data.items():\n",
    "        print('{} is {}'. format(key, value))"
   ]
  },
  {
   "cell_type": "code",
   "execution_count": 9,
   "metadata": {},
   "outputs": [
    {
     "name": "stdout",
     "output_type": "stream",
     "text": [
      "\n",
      "Data type of the argument <class 'dict'>\n",
      "firstname is Sajin\n",
      "lastname is madhavan\n",
      "pincode is 641035\n",
      "age is 27\n",
      "\n",
      "Data type of the argument <class 'dict'>\n",
      "firstname is Ramesh\n",
      "lastname is Aravind\n",
      "pincode is 641035\n",
      "age is 28\n",
      "occupation is Business\n"
     ]
    }
   ],
   "source": [
    "intro(firstname='Sajin', lastname='madhavan', pincode=641035, age=27)\n",
    "intro(firstname='Ramesh', lastname='Aravind', pincode=641035, age=28, occupation='Business')"
   ]
  },
  {
   "cell_type": "code",
   "execution_count": 10,
   "metadata": {},
   "outputs": [],
   "source": [
    "def details(**kwargs):\n",
    "    print(kwargs)"
   ]
  },
  {
   "cell_type": "code",
   "execution_count": 11,
   "metadata": {},
   "outputs": [
    {
     "name": "stdout",
     "output_type": "stream",
     "text": [
      "{'name': 'Sajin', 'age': 27, 'profession': 'Data scientist'}\n"
     ]
    }
   ],
   "source": [
    "details(name='Sajin', age=27, profession='Data scientist')  #displays the OP as dictinoary and we can pass any no of arguments"
   ]
  },
  {
   "cell_type": "code",
   "execution_count": 12,
   "metadata": {},
   "outputs": [],
   "source": [
    "def detail(*args):\n",
    "    print(args)"
   ]
  },
  {
   "cell_type": "code",
   "execution_count": 17,
   "metadata": {},
   "outputs": [
    {
     "ename": "TypeError",
     "evalue": "detail() got an unexpected keyword argument 'name'",
     "output_type": "error",
     "traceback": [
      "\u001b[1;31m---------------------------------------------------------------------------\u001b[0m",
      "\u001b[1;31mTypeError\u001b[0m                                 Traceback (most recent call last)",
      "\u001b[1;32m<ipython-input-17-c35e55f90ada>\u001b[0m in \u001b[0;36m<module>\u001b[1;34m\u001b[0m\n\u001b[1;32m----> 1\u001b[1;33m \u001b[0mdetail\u001b[0m\u001b[1;33m(\u001b[0m\u001b[0mname\u001b[0m\u001b[1;33m=\u001b[0m\u001b[1;34m'Sajin'\u001b[0m\u001b[1;33m,\u001b[0m \u001b[0mage\u001b[0m\u001b[1;33m=\u001b[0m\u001b[1;36m27\u001b[0m\u001b[1;33m,\u001b[0m \u001b[0mprofession\u001b[0m\u001b[1;33m=\u001b[0m\u001b[1;34m'Data scientist'\u001b[0m\u001b[1;33m)\u001b[0m  \u001b[1;31m#args doesnt take keyword arguments, hence this error\u001b[0m\u001b[1;33m\u001b[0m\u001b[1;33m\u001b[0m\u001b[0m\n\u001b[0m",
      "\u001b[1;31mTypeError\u001b[0m: detail() got an unexpected keyword argument 'name'"
     ]
    }
   ],
   "source": [
    "detail(name='Sajin', age=27, profession='Data scientist')  #args doesnt take keyword arguments, hence this error"
   ]
  },
  {
   "cell_type": "code",
   "execution_count": 16,
   "metadata": {},
   "outputs": [
    {
     "name": "stdout",
     "output_type": "stream",
     "text": [
      "(1, 2, 3, 4, 5)\n"
     ]
    }
   ],
   "source": [
    "detail(1,2,3,4,5)  #here it works, because we are not giving any Keywords as argument"
   ]
  },
  {
   "cell_type": "code",
   "execution_count": 18,
   "metadata": {},
   "outputs": [],
   "source": [
    "#In simple words, if we have to assign a value and pass as parameter, use **kwargs(Keyword argument) and *args is used when \n",
    "#we directly pass the  values"
   ]
  },
  {
   "cell_type": "code",
   "execution_count": 28,
   "metadata": {},
   "outputs": [],
   "source": [
    "def fav_color(**kwargs):\n",
    "    for person, color in kwargs.items():\n",
    "        print('{} fav color is {}'.format(person,color))\n",
    "        "
   ]
  },
  {
   "cell_type": "code",
   "execution_count": 29,
   "metadata": {},
   "outputs": [
    {
     "name": "stdout",
     "output_type": "stream",
     "text": [
      "sajin fav color is red\n",
      "vidhya fav color is blue\n"
     ]
    }
   ],
   "source": [
    "fav_color(sajin='red', vidhya='blue')"
   ]
  },
  {
   "cell_type": "code",
   "execution_count": null,
   "metadata": {},
   "outputs": [],
   "source": []
  }
 ],
 "metadata": {
  "kernelspec": {
   "display_name": "Python 3",
   "language": "python",
   "name": "python3"
  },
  "language_info": {
   "codemirror_mode": {
    "name": "ipython",
    "version": 3
   },
   "file_extension": ".py",
   "mimetype": "text/x-python",
   "name": "python",
   "nbconvert_exporter": "python",
   "pygments_lexer": "ipython3",
   "version": "3.7.1"
  }
 },
 "nbformat": 4,
 "nbformat_minor": 2
}
