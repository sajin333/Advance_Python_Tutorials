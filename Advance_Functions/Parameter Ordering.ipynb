{
 "cells": [
  {
   "cell_type": "markdown",
   "metadata": {},
   "source": [
    "\n",
    "Parameter Ordering:\n",
    "There is a order we have to follow or else things could break.So this will be the order In our function \n",
    "Declarations.\n",
    "1.Parameters\n",
    "2.*args\n",
    "3.Default Parameters\n",
    "4.**kwargs\n",
    "\n",
    "If the function consist of all 4 of these we have to use this order.\n"
   ]
  },
  {
   "cell_type": "code",
   "execution_count": 2,
   "metadata": {},
   "outputs": [],
   "source": [
    "def display_info(a,b,*args,instructer=\"Sajin\",**kwargs):\n",
    "    return [a,b,args,instructer,kwargs]"
   ]
  },
  {
   "cell_type": "code",
   "execution_count": 3,
   "metadata": {},
   "outputs": [
    {
     "data": {
      "text/plain": [
       "[10, 20, (30,), 'Sajin', {'last_name': 'Madhavan', 'job': 'Instructer'}]"
      ]
     },
     "execution_count": 3,
     "metadata": {},
     "output_type": "execute_result"
    }
   ],
   "source": [
    "display_info(10,20,30,last_name=\"Madhavan\",job=\"Instructer\")"
   ]
  },
  {
   "cell_type": "code",
   "execution_count": 4,
   "metadata": {},
   "outputs": [],
   "source": [
    "view=display_info(10,20,30,last_name=\"Madhavan\",job=\"Instructer\")"
   ]
  },
  {
   "cell_type": "code",
   "execution_count": 5,
   "metadata": {},
   "outputs": [
    {
     "name": "stdout",
     "output_type": "stream",
     "text": [
      "[10, 20, (30,), 'Sajin', {'last_name': 'Madhavan', 'job': 'Instructer'}]\n"
     ]
    }
   ],
   "source": [
    "print(view)"
   ]
  },
  {
   "cell_type": "code",
   "execution_count": null,
   "metadata": {},
   "outputs": [],
   "source": []
  }
 ],
 "metadata": {
  "kernelspec": {
   "display_name": "Python 3",
   "language": "python",
   "name": "python3"
  },
  "language_info": {
   "codemirror_mode": {
    "name": "ipython",
    "version": 3
   },
   "file_extension": ".py",
   "mimetype": "text/x-python",
   "name": "python",
   "nbconvert_exporter": "python",
   "pygments_lexer": "ipython3",
   "version": "3.7.1"
  }
 },
 "nbformat": 4,
 "nbformat_minor": 2
}
