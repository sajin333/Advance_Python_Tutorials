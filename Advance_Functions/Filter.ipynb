{
 "cells": [
  {
   "cell_type": "code",
   "execution_count": 2,
   "metadata": {},
   "outputs": [
    {
     "name": "stdout",
     "output_type": "stream",
     "text": [
      "[2, 4, 6, 8, 10]\n"
     ]
    }
   ],
   "source": [
    "l=[1,2,3,4,5,6,7,8,9,10]\n",
    "out= filter(lambda x:x%2==0, l)\n",
    "print(list(out))"
   ]
  },
  {
   "cell_type": "code",
   "execution_count": 3,
   "metadata": {},
   "outputs": [
    {
     "name": "stdout",
     "output_type": "stream",
     "text": [
      "['austin', 'anthony', 'angel']\n"
     ]
    }
   ],
   "source": [
    "names = ['austin','penny','anthony','angel','billy']\n",
    "out1=filter(lambda x:'a' in x, names)\n",
    "print(list(out1))"
   ]
  },
  {
   "cell_type": "code",
   "execution_count": 7,
   "metadata": {},
   "outputs": [],
   "source": [
    "users = [{\"username\":\"samuel\", \"tweets\":['I love Cake','I love Pie']},\n",
    "{\"username\":\"katie\", \"tweets\":['I love my dog']},\n",
    "{\"username\":\"jeff\", \"tweets\":[]},\n",
    "{\"username\":\"bob123\", \"tweets\":[]},\n",
    "{\"username\":\"dogoo_luvr\", \"tweets\":['Dogs are the best']},\n",
    "{\"username\":\"guitar_gal\", \"tweets\":[]}]\n",
    "\n",
    "##I want to filterout that user who never tweeted\n"
   ]
  },
  {
   "cell_type": "code",
   "execution_count": 9,
   "metadata": {},
   "outputs": [
    {
     "name": "stdout",
     "output_type": "stream",
     "text": [
      "[{'username': 'jeff', 'tweets': []}, {'username': 'bob123', 'tweets': []}, {'username': 'guitar_gal', 'tweets': []}]\n"
     ]
    }
   ],
   "source": [
    "out2= filter(lambda x:len(x['tweets'])==0, users)\n",
    "print(list(out2))"
   ]
  },
  {
   "cell_type": "code",
   "execution_count": 39,
   "metadata": {},
   "outputs": [
    {
     "name": "stdout",
     "output_type": "stream",
     "text": [
      "[{'username': 'samuel', 'tweets': ['I love Cake', 'I love Pie']}, {'username': 'katie', 'tweets': ['I love my dog']}, {'username': 'dogoo_luvr', 'tweets': ['Dogs are the best']}]\n",
      "[{'username': 'jeff', 'tweets': []}, {'username': 'bob123', 'tweets': []}, {'username': 'guitar_gal', 'tweets': []}]\n"
     ]
    }
   ],
   "source": [
    "#Return the people who tweets often and people who dont tweet\n",
    "out3=filter(lambda x: x['tweets'],users)\n",
    "print(list(out3))\n",
    "\n",
    "\n",
    "out4= filter(lambda x: not x['tweets'], users)\n",
    "print(list(out4))"
   ]
  },
  {
   "cell_type": "code",
   "execution_count": 40,
   "metadata": {},
   "outputs": [
    {
     "name": "stdout",
     "output_type": "stream",
     "text": [
      "jeff\n",
      "bob123\n",
      "guitar_gal\n",
      "[{'username': 'jeff', 'tweets': []}, {'username': 'bob123', 'tweets': []}, {'username': 'guitar_gal', 'tweets': []}]\n"
     ]
    }
   ],
   "source": [
    "#Another method\n",
    "##Using function\n",
    "def test(detail):\n",
    "    if(len(detail['tweets'])<1):\n",
    "        print(detail['username'])\n",
    "        return detail['username']\n",
    "\n",
    "list_user = list(filter(test,users))\n",
    "print(list_user)"
   ]
  },
  {
   "cell_type": "code",
   "execution_count": 38,
   "metadata": {},
   "outputs": [
    {
     "name": "stdout",
     "output_type": "stream",
     "text": [
      "[24, 32]\n"
     ]
    }
   ],
   "source": [
    "#Filter the array, and return a new array with only the values equal to or above 18:\n",
    "ages = [5, 12, 17, 18, 24, 32]\n",
    "\n",
    "\n",
    "out5=filter(lambda x:x>18, ages)\n",
    "print(list(out5))"
   ]
  },
  {
   "cell_type": "code",
   "execution_count": 49,
   "metadata": {},
   "outputs": [
    {
     "name": "stdout",
     "output_type": "stream",
     "text": [
      "['Ashley', 'Olly']\n"
     ]
    }
   ],
   "source": [
    "creature_names = ['Sammy', 'Ashley', 'Jo', 'Olly', 'Jackie', 'Charlie']\n",
    "out6= filter(lambda x:x[0].lower() in 'aeiou' , creature_names)\n",
    "print(list(out6))"
   ]
  },
  {
   "cell_type": "code",
   "execution_count": null,
   "metadata": {},
   "outputs": [],
   "source": []
  },
  {
   "cell_type": "code",
   "execution_count": null,
   "metadata": {},
   "outputs": [],
   "source": []
  }
 ],
 "metadata": {
  "kernelspec": {
   "display_name": "Python 3",
   "language": "python",
   "name": "python3"
  },
  "language_info": {
   "codemirror_mode": {
    "name": "ipython",
    "version": 3
   },
   "file_extension": ".py",
   "mimetype": "text/x-python",
   "name": "python",
   "nbconvert_exporter": "python",
   "pygments_lexer": "ipython3",
   "version": "3.7.1"
  }
 },
 "nbformat": 4,
 "nbformat_minor": 2
}
