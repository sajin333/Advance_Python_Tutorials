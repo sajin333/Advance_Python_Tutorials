{
 "cells": [
  {
   "cell_type": "markdown",
   "metadata": {},
   "source": [
    "\n",
    "# ANY : OR operator\n",
    "\n",
    "The any() function returns a boolean value:\n",
    "\n",
    "True if at least one element of an iterable is true, False if all elements are false or if an iterable is empty"
   ]
  },
  {
   "cell_type": "markdown",
   "metadata": {},
   "source": [
    "# All : AND operator\n",
    "all() function returns:\n",
    "\n",
    "True - If all elements in an iterable are true, False - If any element in an iterable is false"
   ]
  },
  {
   "cell_type": "code",
   "execution_count": 13,
   "metadata": {},
   "outputs": [
    {
     "name": "stdout",
     "output_type": "stream",
     "text": [
      "See whether at least one number is divisible by 5 in list 1=>\n"
     ]
    }
   ],
   "source": [
    "list1=[]\n",
    "list2=[]\n",
    "for i in range(0,11):\n",
    "    list1.append(4*i)\n",
    "    \n",
    "for i in range(0,10):\n",
    "    list2.append(list1[i]%5==0)\n",
    "    \n",
    "    \n",
    "print('See whether at least one number is divisible by 5 in list 1=>')"
   ]
  },
  {
   "cell_type": "code",
   "execution_count": 14,
   "metadata": {},
   "outputs": [
    {
     "name": "stdout",
     "output_type": "stream",
     "text": [
      "[0, 4, 8, 12, 16, 20, 24, 28, 32, 36, 40]\n",
      "[True, False, False, False, False, True, False, False, False, False]\n"
     ]
    }
   ],
   "source": [
    "print(list1)\n",
    "print(list2)"
   ]
  },
  {
   "cell_type": "code",
   "execution_count": 15,
   "metadata": {},
   "outputs": [
    {
     "name": "stdout",
     "output_type": "stream",
     "text": [
      "False\n"
     ]
    }
   ],
   "source": [
    "print(all(list2))"
   ]
  },
  {
   "cell_type": "code",
   "execution_count": 16,
   "metadata": {},
   "outputs": [
    {
     "name": "stdout",
     "output_type": "stream",
     "text": [
      "True\n"
     ]
    }
   ],
   "source": [
    "print(any(list2))"
   ]
  },
  {
   "cell_type": "markdown",
   "metadata": {},
   "source": [
    "# Any:\n",
    "# Returns true if any of the items is True. It returns False if empty or all are false. Like OR operator"
   ]
  },
  {
   "cell_type": "code",
   "execution_count": 17,
   "metadata": {},
   "outputs": [
    {
     "name": "stdout",
     "output_type": "stream",
     "text": [
      "False\n",
      "True\n",
      "True\n"
     ]
    }
   ],
   "source": [
    "# Since all are false, false is returned\n",
    "print (any([False, False, False, False]))\n",
    "  \n",
    "# Here the method will short-circuit at the\n",
    "# second item (True) and will return True.\n",
    "print (any([False, True, False, False]))\n",
    "  \n",
    "# Here the method will short-circuit at the\n",
    "# first (True) and will return True.\n",
    "print (any([True, False, False, False]))"
   ]
  },
  {
   "cell_type": "markdown",
   "metadata": {},
   "source": [
    "# All:\n",
    "# Returns true if all of the items are True, Just like And Operator"
   ]
  },
  {
   "cell_type": "code",
   "execution_count": 18,
   "metadata": {},
   "outputs": [
    {
     "name": "stdout",
     "output_type": "stream",
     "text": [
      "True\n",
      "False\n",
      "False\n"
     ]
    }
   ],
   "source": [
    "# Here all the iterables are True so all\n",
    "# will return True and the same will be printed\n",
    "print (all([True, True, True, True]))\n",
    "  \n",
    "# Here the method will short-circuit at the \n",
    "# first item (False) and will return False.\n",
    "print (all([False, True, True, False]))\n",
    "  \n",
    "# This statement will return False, as no\n",
    "# True is found in the iterables\n",
    "print (all([False, False, False]))"
   ]
  }
 ],
 "metadata": {
  "kernelspec": {
   "display_name": "Python 3",
   "language": "python",
   "name": "python3"
  },
  "language_info": {
   "codemirror_mode": {
    "name": "ipython",
    "version": 3
   },
   "file_extension": ".py",
   "mimetype": "text/x-python",
   "name": "python",
   "nbconvert_exporter": "python",
   "pygments_lexer": "ipython3",
   "version": "3.7.1"
  }
 },
 "nbformat": 4,
 "nbformat_minor": 2
}
