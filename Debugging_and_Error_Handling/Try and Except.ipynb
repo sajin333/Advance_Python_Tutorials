{
 "cells": [
  {
   "cell_type": "code",
   "execution_count": 19,
   "metadata": {},
   "outputs": [
    {
     "name": "stdout",
     "output_type": "stream",
     "text": [
      "Enter a no: 2\n"
     ]
    }
   ],
   "source": [
    "try:\n",
    "    num=int(input('Enter a no: '))\n",
    "except:\n",
    "    print(\"Number was not entered\")"
   ]
  },
  {
   "cell_type": "code",
   "execution_count": 23,
   "metadata": {},
   "outputs": [
    {
     "name": "stdout",
     "output_type": "stream",
     "text": [
      "Enter a no: 'r'\n",
      "Number was not entered\n"
     ]
    }
   ],
   "source": [
    "try:\n",
    "    num=int(input('Enter a no: '))\n",
    "except:\n",
    "    print(\"Number was not entered\")"
   ]
  },
  {
   "cell_type": "code",
   "execution_count": 1,
   "metadata": {},
   "outputs": [
    {
     "ename": "NameError",
     "evalue": "name 'b' is not defined",
     "output_type": "error",
     "traceback": [
      "\u001b[1;31m---------------------------------------------------------------------------\u001b[0m",
      "\u001b[1;31mNameError\u001b[0m                                 Traceback (most recent call last)",
      "\u001b[1;32m<ipython-input-1-01da5b79f117>\u001b[0m in \u001b[0;36m<module>\u001b[1;34m\u001b[0m\n\u001b[1;32m----> 1\u001b[1;33m \u001b[0ma\u001b[0m\u001b[1;33m=\u001b[0m\u001b[0mb\u001b[0m\u001b[1;33m\u001b[0m\u001b[1;33m\u001b[0m\u001b[0m\n\u001b[0m\u001b[0;32m      2\u001b[0m \u001b[1;33m\u001b[0m\u001b[0m\n\u001b[0;32m      3\u001b[0m \u001b[1;31m#Name error exception\u001b[0m\u001b[1;33m\u001b[0m\u001b[1;33m\u001b[0m\u001b[1;33m\u001b[0m\u001b[0m\n",
      "\u001b[1;31mNameError\u001b[0m: name 'b' is not defined"
     ]
    }
   ],
   "source": [
    "a=b\n",
    "\n",
    "#Name error exception"
   ]
  },
  {
   "cell_type": "code",
   "execution_count": 2,
   "metadata": {},
   "outputs": [
    {
     "name": "stdout",
     "output_type": "stream",
     "text": [
      "there is an exception\n"
     ]
    }
   ],
   "source": [
    "try:\n",
    "    a=b #code block where exception occurs\n",
    "except:\n",
    "    print(\"there is an exception\")"
   ]
  },
  {
   "cell_type": "code",
   "execution_count": 3,
   "metadata": {},
   "outputs": [
    {
     "name": "stdout",
     "output_type": "stream",
     "text": [
      "name 'b' is not defined\n"
     ]
    }
   ],
   "source": [
    "try:\n",
    "    a=b #code block where exception occurs\n",
    "except Exception as ex:\n",
    "    print(ex)   #we got the same error which we got in the 1st cell"
   ]
  },
  {
   "cell_type": "code",
   "execution_count": 4,
   "metadata": {},
   "outputs": [
    {
     "name": "stdout",
     "output_type": "stream",
     "text": [
      "The User has not defined correct variable\n"
     ]
    }
   ],
   "source": [
    "#When I am using the below code at the backend, the error cannot be understood by the User. \n",
    "#To resolve that problem, we can add a display name as below,\n",
    "\n",
    "try:\n",
    "    a=b\n",
    "except NameError:\n",
    "    print('The User has not defined correct variable')\n",
    "except Exception as ex:\n",
    "    print(ex)"
   ]
  },
  {
   "cell_type": "code",
   "execution_count": 5,
   "metadata": {},
   "outputs": [
    {
     "name": "stdout",
     "output_type": "stream",
     "text": [
      "unsupported operand type(s) for +: 'int' and 'str'\n"
     ]
    }
   ],
   "source": [
    "try:\n",
    "    a=1\n",
    "    b='s'\n",
    "    c=a+b\n",
    "except NameError as er1:\n",
    "    print('The User has not defined correct variable')\n",
    "except Exception as ex:\n",
    "    print(ex)\n",
    "    \n",
    "#The above program results in error, thus the exception will be raised by ex"
   ]
  },
  {
   "cell_type": "markdown",
   "metadata": {},
   "source": [
    "# Handling the above exception"
   ]
  },
  {
   "cell_type": "code",
   "execution_count": 6,
   "metadata": {},
   "outputs": [
    {
     "ename": "TypeError",
     "evalue": "unsupported operand type(s) for +: 'int' and 'str'",
     "output_type": "error",
     "traceback": [
      "\u001b[1;31m---------------------------------------------------------------------------\u001b[0m",
      "\u001b[1;31mTypeError\u001b[0m                                 Traceback (most recent call last)",
      "\u001b[1;32m<ipython-input-6-32b32757b8d0>\u001b[0m in \u001b[0;36m<module>\u001b[1;34m\u001b[0m\n\u001b[0;32m      3\u001b[0m \u001b[0ma\u001b[0m\u001b[1;33m=\u001b[0m\u001b[1;36m1\u001b[0m\u001b[1;33m\u001b[0m\u001b[1;33m\u001b[0m\u001b[0m\n\u001b[0;32m      4\u001b[0m \u001b[0mb\u001b[0m\u001b[1;33m=\u001b[0m\u001b[1;34m's'\u001b[0m\u001b[1;33m\u001b[0m\u001b[1;33m\u001b[0m\u001b[0m\n\u001b[1;32m----> 5\u001b[1;33m \u001b[0mc\u001b[0m\u001b[1;33m=\u001b[0m\u001b[0ma\u001b[0m\u001b[1;33m+\u001b[0m\u001b[0mb\u001b[0m\u001b[1;33m\u001b[0m\u001b[1;33m\u001b[0m\u001b[0m\n\u001b[0m\u001b[0;32m      6\u001b[0m \u001b[1;33m\u001b[0m\u001b[0m\n\u001b[0;32m      7\u001b[0m \u001b[1;31m#Exception is TypeError\u001b[0m\u001b[1;33m\u001b[0m\u001b[1;33m\u001b[0m\u001b[1;33m\u001b[0m\u001b[0m\n",
      "\u001b[1;31mTypeError\u001b[0m: unsupported operand type(s) for +: 'int' and 'str'"
     ]
    }
   ],
   "source": [
    "\n",
    "\n",
    "a=1\n",
    "b='s'\n",
    "c=a+b\n",
    "\n",
    "#Exception is TypeError"
   ]
  },
  {
   "cell_type": "code",
   "execution_count": 7,
   "metadata": {},
   "outputs": [
    {
     "name": "stdout",
     "output_type": "stream",
     "text": [
      "Try Typecasting\n"
     ]
    }
   ],
   "source": [
    "try:\n",
    "    a=1\n",
    "    b='s'\n",
    "    c=a+b\n",
    "\n",
    "except TypeError:  #alias name is not needed\n",
    "    print('Try Typecasting')\n",
    "\n",
    "except Exception as ex:\n",
    "    print(ex)  \n",
    "    "
   ]
  },
  {
   "cell_type": "code",
   "execution_count": 8,
   "metadata": {},
   "outputs": [
    {
     "name": "stdout",
     "output_type": "stream",
     "text": [
      "enter the 1st no1\n",
      "enter the 2nd no2\n",
      "0.5\n",
      "2\n",
      "3\n"
     ]
    }
   ],
   "source": [
    "#Real type application of Exception Handling\n",
    "\n",
    "try:\n",
    "    a=int(input(\"enter the 1st no\"))\n",
    "    b=int(input(\"enter the 2nd no\"))\n",
    "    c=a/b\n",
    "    d=a*b\n",
    "    e=a+b\n",
    "    print(c)\n",
    "    print(d)\n",
    "    print(e)\n",
    "\n",
    "except exception as ex:\n",
    "    print(ex)"
   ]
  },
  {
   "cell_type": "code",
   "execution_count": 9,
   "metadata": {},
   "outputs": [
    {
     "name": "stdout",
     "output_type": "stream",
     "text": [
      "enter the 1st no:12\n",
      "enter the 2nd no0\n",
      "Type a no greater than 0\n"
     ]
    }
   ],
   "source": [
    "#Real type application of Exception Handling\n",
    "\n",
    "try:\n",
    "    a=int(input(\"enter the 1st no:\"))\n",
    "    b=int(input(\"enter the 2nd no\"))\n",
    "    c=a/b\n",
    "    d=a*b\n",
    "    e=a+b\n",
    "    print(c)\n",
    "    print(d)\n",
    "    print(e)\n",
    "    \n",
    "except ZeroDivisionError:\n",
    "    print(\"Type a no greater than 0\")\n",
    "except NameError:\n",
    "    print(\"Pls change the Datatype or do Typecasting\")\n",
    "except ValueError:\n",
    "    print('Enter only Integers')\n",
    "except exception as ex:  #generic Execption class should be written at the last\n",
    "    print(ex)"
   ]
  },
  {
   "cell_type": "code",
   "execution_count": null,
   "metadata": {},
   "outputs": [],
   "source": [
    "#Try and Except block can also be used with else block, taking the above example.,\n",
    "\n",
    "#If the exception is not getting trigrred we can use else with Try and Except block\n",
    "\n",
    "try:\n",
    "    a=int(input(\"enter the 1st no:\"))\n",
    "    b=int(input(\"enter the 2nd no\"))\n",
    "    c=a/b\n",
    "    d=a*b\n",
    "    e=a+b\n",
    "    \n",
    "except ZeroDivisionError:\n",
    "    print(\"Type a no greater than 0\")\n",
    "except NameError:\n",
    "    print(\"Pls change the Datatype or do Typecasting\")\n",
    "except ValueError:\n",
    "    print('Enter only Integers')\n",
    "except exception as ex:  #generic Execption class should be written at the last\n",
    "    print(ex)\n",
    "else:\n",
    "    print(c)\n",
    "    print(d)\n",
    "    print(e)\n"
   ]
  },
  {
   "cell_type": "markdown",
   "metadata": {},
   "source": [
    "# try, else, finally"
   ]
  },
  {
   "cell_type": "code",
   "execution_count": 10,
   "metadata": {},
   "outputs": [
    {
     "name": "stdout",
     "output_type": "stream",
     "text": [
      "enter the 1st no:12\n",
      "enter the 2nd no5\n",
      "2.4\n",
      "the execution is done\n"
     ]
    }
   ],
   "source": [
    "#Try and Except block can also be used with else block, taking the above example.,\n",
    "\n",
    "#If the exception is not getting trigrred we can use else with Try and Except block\n",
    "\n",
    "try:\n",
    "    a=int(input(\"enter the 1st no:\"))\n",
    "    b=int(input(\"enter the 2nd no\"))\n",
    "    c=a/b\n",
    "    \n",
    "except ZeroDivisionError:\n",
    "    print(\"Type a no greater than 0\")\n",
    "except NameError:\n",
    "    print(\"Pls change the Datatype or do Typecasting\")\n",
    "except ValueError:\n",
    "    print('Enter only Integers')\n",
    "except exception as ex:  #generic Execption class should be written at the last\n",
    "    print(ex)\n",
    "else:\n",
    "    print(c)\n",
    "finally:\n",
    "    print(\"the execution is done\")\n",
    "          "
   ]
  },
  {
   "cell_type": "code",
   "execution_count": 11,
   "metadata": {},
   "outputs": [
    {
     "name": "stdout",
     "output_type": "stream",
     "text": [
      "enter the 1st no:12\n",
      "enter the 2nd no4\n",
      "3.0\n",
      "the execution is done\n"
     ]
    }
   ],
   "source": [
    "try:\n",
    "    a=int(input(\"enter the 1st no:\"))\n",
    "    b=int(input(\"enter the 2nd no\"))\n",
    "    c=a/b\n",
    "    \n",
    "except ZeroDivisionError:\n",
    "    print(\"Type a no greater than 0\")\n",
    "except NameError:\n",
    "    print(\"Pls change the Datatype or do Typecasting\")\n",
    "except ValueError:\n",
    "    print('Enter only Integers')\n",
    "except exception as ex:  #generic Execption class should be written at the last\n",
    "    print(ex)\n",
    "else:\n",
    "    print(c)\n",
    "finally:\n",
    "    print(\"the execution is done\")"
   ]
  },
  {
   "cell_type": "code",
   "execution_count": 12,
   "metadata": {},
   "outputs": [],
   "source": [
    "# The differnce between 'else' and 'finally' is, else will be running only if there is no exception triggred\n",
    "# but finally will run when exception comes or doesnt come"
   ]
  },
  {
   "cell_type": "code",
   "execution_count": null,
   "metadata": {},
   "outputs": [],
   "source": []
  },
  {
   "cell_type": "code",
   "execution_count": 13,
   "metadata": {},
   "outputs": [],
   "source": [
    "#Custom Exception -- we can create custom exception as well\n",
    "\n",
    "class Error(Exception):  #CREATING A CLASS AND INHERITANCE\n",
    "    pass\n",
    "\n",
    "class dobException(Error):\n",
    "    pass "
   ]
  },
  {
   "cell_type": "code",
   "execution_count": 15,
   "metadata": {},
   "outputs": [
    {
     "name": "stdout",
     "output_type": "stream",
     "text": [
      "Enter the year of Birth1991\n",
      "the age is valid, you can apply for exam\n"
     ]
    }
   ],
   "source": [
    "year= int(input(\"Enter the year of Birth\"))\n",
    "age=2021-year\n",
    "\n",
    "try:\n",
    "    if age<=30 & age>20:\n",
    "        print(\"the age is valid, you can apply for exam\")\n",
    "    else:\n",
    "        raise dobException\n",
    "except dobException:\n",
    "    print(\"the age is not within range, you cannot apply for exam\")\n"
   ]
  },
  {
   "cell_type": "code",
   "execution_count": 16,
   "metadata": {},
   "outputs": [
    {
     "name": "stdout",
     "output_type": "stream",
     "text": [
      "Enter the year of Birth35\n",
      "the age is not within range, you cannot apply for exam\n"
     ]
    }
   ],
   "source": [
    "year= int(input(\"Enter the year of Birth\"))\n",
    "age=2021-year\n",
    "\n",
    "try:\n",
    "    if age<=30 & age>20:\n",
    "        print(\"the age is valid, you can apply for exam\")\n",
    "    else:\n",
    "        raise dobException   #RAISE IS USED FOR CUSTOM EXCEPTION\n",
    "except dobException:\n",
    "    print(\"the age is not within range, you cannot apply for exam\")\n"
   ]
  },
  {
   "cell_type": "code",
   "execution_count": null,
   "metadata": {},
   "outputs": [],
   "source": []
  }
 ],
 "metadata": {
  "kernelspec": {
   "display_name": "Python 3",
   "language": "python",
   "name": "python3"
  },
  "language_info": {
   "codemirror_mode": {
    "name": "ipython",
    "version": 3
   },
   "file_extension": ".py",
   "mimetype": "text/x-python",
   "name": "python",
   "nbconvert_exporter": "python",
   "pygments_lexer": "ipython3",
   "version": "3.7.1"
  }
 },
 "nbformat": 4,
 "nbformat_minor": 2
}
